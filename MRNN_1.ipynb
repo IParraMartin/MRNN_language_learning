{
 "cells": [
  {
   "cell_type": "code",
   "execution_count": 1,
   "metadata": {},
   "outputs": [],
   "source": [
    "# Import necessary libraries\n",
    "import torch\n",
    "import torch.nn as nn\n",
    "from torchvision import models\n"
   ]
  },
  {
   "cell_type": "code",
   "execution_count": null,
   "metadata": {},
   "outputs": [],
   "source": [
    "# Define the MRNN class, which inherits from nn.Module\n",
    "class MRNN(nn.Module):\n",
    "    \n",
    "    def __init__(self, cnn_output_size, rnn_hidden_size, output_size, num_layers):\n",
    "        # Call the init function of the parent class\n",
    "        super(MRNN, self).__init__()\n",
    "\n",
    "        # Initialize variables for hidden size and number of layers\n",
    "        self.rnn_hidden_size = rnn_hidden_size\n",
    "        self.num_layers = num_layers\n",
    "\n",
    "        # Use a pre-trained CNN (ResNet50 in this case) for image processing\n",
    "        # This CNN will be used to extract features from images\n",
    "        self.cnn = models.resnet50(pretrained=True)\n",
    "\n",
    "        # Freeze the weights of the pre-trained CNN so they won't be updated during training\n",
    "        for param in self.cnn.parameters():\n",
    "            param.requires_grad = False\n",
    "\n",
    "        # Change the last layer of the CNN to have output size as 'cnn_output_size'\n",
    "        self.cnn.fc = nn.Linear(self.cnn.fc.in_features, cnn_output_size)\n",
    "\n",
    "        # Use an LSTM for text processing\n",
    "        # This LSTM will be used to process sequences of word embeddings (of size 300)\n",
    "        self.text_rnn = nn.LSTM(input_size=300, hidden_size=rnn_hidden_size, num_layers=num_layers, batch_first=True)\n",
    "\n",
    "        # Use another LSTM for the final output\n",
    "        # This LSTM takes in both the output from the CNN and the output from the text processing LSTM\n",
    "        self.output_rnn = nn.LSTM(input_size=cnn_output_size + rnn_hidden_size, hidden_size=output_size, num_layers=num_layers, batch_first=True)\n",
    "\n",
    "    def forward(self, images, text):\n",
    "        # Process the images through the CNN\n",
    "        cnn_output = self.cnn(images)\n",
    "\n",
    "        # Process the text through the text processing LSTM\n",
    "        # First, we initialize the hidden state and cell state for the LSTM\n",
    "        h0 = torch.zeros(self.num_layers, text.size(0), self.rnn_hidden_size).to(text.device)\n",
    "        c0 = torch.zeros(self.num_layers, text.size(0), self.rnn_hidden_size).to(text.device)\n",
    "\n",
    "        # Then we pass the text and the initial hidden and cell states to the LSTM\n",
    "        text_rnn_output, _ = self.text_rnn(text, (h0, c0))\n",
    "\n",
    "        # Combine the outputs of the CNN and text LSTM\n",
    "        # We add an extra dimension to the CNN output to match the shape of the text LSTM output\n",
    "        combined = torch.cat((cnn_output.unsqueeze(1), text_rnn_output), dim=-1)\n",
    "\n",
    "        # Generate the final output with the combined LSTM\n",
    "        # First, we initialize the hidden state and cell state for the LSTM\n",
    "        h0 = torch.zeros(self.num_layers, combined.size(0), self.rnn_hidden_size).to(combined.device)\n",
    "        c0 = torch.zeros(self.num_layers, combined.size(0), self.rnn_hidden_size).to(combined.device)\n",
    "\n",
    "        # Then we pass the combined output and the initial hidden and cell states to the LSTM\n",
    "        output, _ = self.output_rnn(combined, (h0, c0))\n",
    "\n",
    "        # Return the final output\n",
    "        return output"
   ]
  }
 ],
 "metadata": {
  "kernelspec": {
   "display_name": "Python 3",
   "language": "python",
   "name": "python3"
  },
  "language_info": {
   "codemirror_mode": {
    "name": "ipython",
    "version": 3
   },
   "file_extension": ".py",
   "mimetype": "text/x-python",
   "name": "python",
   "nbconvert_exporter": "python",
   "pygments_lexer": "ipython3",
   "version": "3.11.1"
  },
  "orig_nbformat": 4
 },
 "nbformat": 4,
 "nbformat_minor": 2
}
